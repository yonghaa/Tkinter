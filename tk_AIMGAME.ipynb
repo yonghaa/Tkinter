{
 "cells": [
  {
   "cell_type": "markdown",
   "id": "f998afaa",
   "metadata": {},
   "source": [
    "# 실행파일 만들기\n",
    "## 1. pyinstaller 설치\n",
    "- 주피터가 아닌 아나콘다 프롬프트에서 실행\n",
    "## 2. 작성한 코드 .py 파일로 저장\n",
    "## 3. pyinstaller로 실행파일 만들기\n",
    "- 아나콘다 프롬프트에서 특정 명령어 입력하면 실행파일 만들 수 있다."
   ]
  },
  {
   "cell_type": "markdown",
   "id": "d1e9a392",
   "metadata": {},
   "source": [
    "## 에임 연습 게임 만들기\n",
    "### 1. 표적 개수 입력 및 실행"
   ]
  },
  {
   "cell_type": "code",
   "execution_count": 1,
   "id": "a35b1a70",
   "metadata": {},
   "outputs": [],
   "source": [
    "from tkinter import *\n",
    "import random\n",
    "from datetime import datetime\n",
    "\n",
    "win = Tk()\n",
    "win.title(\"AIM_GAME\")\n",
    "win.geometry(\"550x150\")\n",
    "win.option_add(\"*Font\", \"궁서 20\")\n",
    "\n",
    "# Label\n",
    "lab = Label(win)\n",
    "lab.config(text = \"표적 개수\")\n",
    "lab.grid(column = 0, row = 0, padx = 20, pady = 20)\n",
    "\n",
    "# Entry(입력창)\n",
    "ent = Entry(win)\n",
    "ent.grid(column = 1, row = 0, padx = 20, pady = 20)\n",
    "\n",
    "k = 1  # 표적의 개수를 세기 위해 k 변수를 만든다.\n",
    "\n",
    "def cc():\n",
    "    global k\n",
    "    if k < num_t:  # num_t 입력창에 입력한 값보다 작거나 같을때 if문 실행\n",
    "        k += 1\n",
    "        btn.destroy()  # 클릭한 버튼 제거\n",
    "        ran_btn()\n",
    "    else:\n",
    "        fin = datetime.now() # fin으로 종료 시각을 저장\n",
    "        dif_sec = (fin - start).total_seconds()\n",
    "        btn.destroy()\n",
    "        lab = Label(win)\n",
    "        lab.config(text = \"Clear\" + str(dif_sec) + \"초\")\n",
    "        lab.pack(pady = 230)\n",
    "\n",
    "# 랜덤한 위치에 버튼이 생성\n",
    "def ran_btn():\n",
    "    global btn  # 전역변수 지정해줘야 함수밖인 위와같이 다른 곳에서도 사용가능\n",
    "    btn = Button(win)\n",
    "    btn.config(bg = \"red\") # 버튼 백그라운드 색\n",
    "    btn.config(command = cc)  # 명령을 지정하기 위해 command 옵션 사용\n",
    "    btn.config(text = k)\n",
    "    btn.place(relx = random.random(), rely = random.random())  # 버튼이 랜덤한 위치에 생성되어야 하므로 place\n",
    "\n",
    "def btn_f(): # get 함수로 내용을 받아올 때, 문자열 이기떄문에 int\n",
    "    global num_t  # global 전역 변수 선언해주면 바깥에서도 쓸 수 있다.\n",
    "    global start\n",
    "    num_t = int(ent.get())  # 이렇게 함수 안에서 만들면 함수 안에서만 쓸 수 있는데\n",
    "    for wg in win.grid_slaves():  # 창 안에 있는 위젯을 선택하는 함수는 grid_slaves 함수(pack, place도 마찬가지)\n",
    "        wg.destroy()  # 위에서 선택한 위젯 사라지게하는 함수 destroy\n",
    "    win.geometry(\"500x500\")\n",
    "    ran_btn()\n",
    "    start = datetime.now() # start로 시작시간 저장\n",
    "    \n",
    "# Button\n",
    "btn = Button(win)\n",
    "btn.config(text = \"시작\")\n",
    "btn.config(command = btn_f)\n",
    "btn.grid(column = 0, row = 1, columnspan = 2)  # 가로 방향으로 두 칸을 병합할 것이기 때문에 columnspan\n",
    "\n",
    "win.mainloop()"
   ]
  },
  {
   "cell_type": "code",
   "execution_count": null,
   "id": "890cd30a",
   "metadata": {},
   "outputs": [],
   "source": []
  }
 ],
 "metadata": {
  "kernelspec": {
   "display_name": "Python 3 (ipykernel)",
   "language": "python",
   "name": "python3"
  },
  "language_info": {
   "codemirror_mode": {
    "name": "ipython",
    "version": 3
   },
   "file_extension": ".py",
   "mimetype": "text/x-python",
   "name": "python",
   "nbconvert_exporter": "python",
   "pygments_lexer": "ipython3",
   "version": "3.11.5"
  }
 },
 "nbformat": 4,
 "nbformat_minor": 5
}

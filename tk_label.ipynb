{
 "cells": [
  {
   "cell_type": "markdown",
   "id": "e5d36753",
   "metadata": {},
   "source": [
    "1. 위젯에 대한 설명: 사용자가 프로그램을 쓰기 쉽게 라벨을 붙임으로써 다른 위젯이 어떤 것인지 설명할 수 있다\n",
    "2. 현재 상태에 대한 설명"
   ]
  },
  {
   "cell_type": "code",
   "execution_count": 1,
   "id": "d6194cdf",
   "metadata": {},
   "outputs": [],
   "source": [
    "# lab = Label(win)  # 라벨 생성\n",
    "# lab.config(text = \"라벨\")  # 라벨 내용\n",
    "# lab.config(image = img)  # 라벨 이미지\n",
    "# img = PhotoImage(file = \"temp.png\", master=win)\n",
    "# img = img.subsample(3) # 1/3로 축소"
   ]
  },
  {
   "cell_type": "code",
   "execution_count": 2,
   "id": "5214ac98",
   "metadata": {},
   "outputs": [],
   "source": [
    "# # 입력창(Entry)\n",
    "\n",
    "# ent.config(show = \"*\")  # 입력 문자 숨기기\n",
    "# ent.insert(0, \"temp@temp.com\")  # 입력창 문자열 삽입\n",
    "# ent.delete(0, 3) # 0~2번째 문자열 삭제 -입력창 문자열 삭제\n",
    "# ent.bind(\"<Button-1>\", clear)  # 입력창 클릭시 명령\n",
    "# def clear(event):\n",
    "#     ent.delete(0, len(ent.get()))"
   ]
  },
  {
   "cell_type": "code",
   "execution_count": 48,
   "id": "36c4215b",
   "metadata": {},
   "outputs": [],
   "source": [
    "from tkinter import *\n",
    "from selenium import webdriver\n",
    "from selenium.webdriver.common.by import By"
   ]
  },
  {
   "cell_type": "code",
   "execution_count": 49,
   "id": "33cdaaf7",
   "metadata": {},
   "outputs": [],
   "source": [
    "win = Tk()\n",
    "win.title(\"Daum Log-in\")\n",
    "win.geometry(\"400x300\")\n",
    "win.option_add(\"*Font\", \"궁서 20\")\n",
    "\n",
    "# 로고\n",
    "lab_d = Label(win)\n",
    "img = PhotoImage(file = \"C:/Users/TOMPSEDU/Desktop/Tkinter/logo.png\", master = win)\n",
    "# img = img.subsample(8) # 이미지 사이즈 조정\n",
    "lab_d.config(image = img)\n",
    "lab_d.pack()\n",
    "\n",
    "# id 라벨\n",
    "lab1 = Label(win)\n",
    "lab1.config(text = \"ID\")\n",
    "lab1.pack()\n",
    "\n",
    "# id 입력창\n",
    "ent1 = Entry(win)\n",
    "ent1.insert(0, \"temp@temp.com\") # id 입력창에 글자 삽입\n",
    "def clear(event):  # clear 함수는 entry 내용이 초기값이라면 내용을 다 지웁니다\n",
    "    if ent1.get() == \"temp@temp.com\":  # 초기 이 내용일 때만 지워지고 그다음 사용자아이디부턴 안지워짐\n",
    "        ent1.delete(0, len(ent1.get()))  # ent1에 들어가 있는 내용을 받아서, 그 길이 만큼\n",
    "ent1.bind(\"<Button-1>\", clear) # 좌클릭을 했을때 사라지는\n",
    "ent1.pack()\n",
    "\n",
    "# pw 라벨\n",
    "lab2 = Label(win)\n",
    "lab2.config(text = \"Password\")\n",
    "lab2.pack()\n",
    "\n",
    "# pw 입력창\n",
    "ent2 = Entry(win)\n",
    "ent2.config(show = \"*\")\n",
    "ent2.pack()\n",
    "\n",
    "# 로그인 버튼\n",
    "btn = Button(win)\n",
    "btn.config(text = \"로그인\")\n",
    "\n",
    "def login():\n",
    "    driver = webdriver.Chrome()\n",
    "    url = \"https://accounts.kakao.com/login/?continue=https%3A%2F%2Flogins.daum.net%2Faccounts%2Fksso.do%3Frescue%3Dtrue%26url%3Dhttps%253A%252F%252Fwww.daum.net#login\"\n",
    "    driver.get(url)\n",
    "    driver.implicitly_wait(5)  # 로딩을 최대한 5초까지 기다리곘다 그전에 끝나면 다음으로 넘어감\n",
    "\n",
    "    xpath1 = \"//input[@name='loginId']\"\n",
    "    driver.find_element(By.XPATH, xpath1).send_keys(\"ent1.get()\")\n",
    "\n",
    "    xpath2 = \"//input[@name='password']\"\n",
    "    driver.find_element(By.XPATH, xpath2).send_keys(\"ent2.get()\")\n",
    "\n",
    "    xpath3 = \"//button[@class='btn_g highlight submit']\"\n",
    "    driver.find_element(By.XPATH, xpath3).click()\n",
    "    \n",
    "    lab3.config(text = \"[메시지] 로그인 성공!\")\n",
    "btn.config(command = login)\n",
    "btn.pack()\n",
    "\n",
    "# 메세지 라벨\n",
    "lab3 = Label(win)\n",
    "\n",
    "lab3.pack()\n",
    "\n",
    "win.mainloop()"
   ]
  },
  {
   "cell_type": "code",
   "execution_count": null,
   "id": "4e401c04",
   "metadata": {},
   "outputs": [],
   "source": []
  }
 ],
 "metadata": {
  "kernelspec": {
   "display_name": "Python 3 (ipykernel)",
   "language": "python",
   "name": "python3"
  },
  "language_info": {
   "codemirror_mode": {
    "name": "ipython",
    "version": 3
   },
   "file_extension": ".py",
   "mimetype": "text/x-python",
   "name": "python",
   "nbconvert_exporter": "python",
   "pygments_lexer": "ipython3",
   "version": "3.11.5"
  }
 },
 "nbformat": 4,
 "nbformat_minor": 5
}

{
 "cells": [
  {
   "cell_type": "markdown",
   "id": "6e450ba1",
   "metadata": {},
   "source": [
    "### GUI(Graphical User Interface)"
   ]
  },
  {
   "cell_type": "code",
   "execution_count": 1,
   "id": "4ea6b3cd",
   "metadata": {},
   "outputs": [],
   "source": [
    "from tkinter import *"
   ]
  },
  {
   "cell_type": "code",
   "execution_count": 26,
   "id": "4a45a328",
   "metadata": {},
   "outputs": [],
   "source": [
    "win = Tk()  # 창 생성\n",
    "\n",
    "win.geometry(\"500x500\")  # 창 크기\n",
    "win.title(\"what time?\")  # 창 타이틀\n",
    "win.option_add(\"*Font\", \"맑은고딕 25\")  # 전체 폰트\n",
    "\n",
    "def what_time():\n",
    "    dnow = datetime.now()\n",
    "    btn.config(text = dnow)\n",
    "    \n",
    "btn = Button(win)  # 버튼 생성\n",
    "btn.config(text = \"현재 시각\")  # 버튼 내용\n",
    "btn.config(width = 30, height = 5)  # 버튼 크기\n",
    "btn.config(command = what_time)  # 버튼 기능\n",
    "\n",
    "btn.pack()\n",
    "\n",
    "win.mainloop()  # 창 실행"
   ]
  },
  {
   "cell_type": "code",
   "execution_count": 15,
   "id": "e60fd589",
   "metadata": {},
   "outputs": [],
   "source": [
    "def alert():\n",
    "    print(\"버튼이 눌림\")"
   ]
  },
  {
   "cell_type": "code",
   "execution_count": 17,
   "id": "4dbc8caa",
   "metadata": {},
   "outputs": [
    {
     "name": "stdout",
     "output_type": "stream",
     "text": [
      "버튼이 눌림\n"
     ]
    }
   ],
   "source": [
    "alert()"
   ]
  },
  {
   "cell_type": "code",
   "execution_count": 21,
   "id": "5d2fe345",
   "metadata": {},
   "outputs": [
    {
     "name": "stdout",
     "output_type": "stream",
     "text": [
      "2024-03-26 17:43:57.286973\n"
     ]
    }
   ],
   "source": [
    "from datetime import datetime\n",
    "print(datetime.now())"
   ]
  },
  {
   "cell_type": "code",
   "execution_count": null,
   "id": "3bbf9c3d",
   "metadata": {},
   "outputs": [],
   "source": [
    "import requests\n",
    "from bs4 import BeautifulSoup\n",
    "\n",
    "def lotto_p():\n",
    "\n",
    "    n = ent.get()  # 입력창 내용 받아오는 함수\n",
    "    url = \"https://dhlottery.co.kr/gameResult.do?method=byWin&drwNo={}\".format(n)\n",
    "    req = requests.get(url)\n",
    "    soup = BeautifulSoup(req.text, \"html.parser\")\n",
    "    # 정리하는 도구(beautifulsoup), 재료(req.text), 정리 방식(html.parser)\n",
    "    txt = soup.find(\"div\", attrs = {\"class\",\"win_result\"}).get_text()\n",
    "    # div(tag)적고, class(attrs), win result(value)를 딕셔너리 자료형으로 적게 됩니다.\n",
    "    # 태그의 내용만 추출하기 위해 get_text() 함수를 사용\n",
    "    num_list = txt.split(\"\\n\")[7:13]\n",
    "    bonus = txt.split(\"\\n\")[-4]\n",
    "    # split 함수를 사용해 \\n을 기준으로 텍스트를 나눕니다.\n",
    "\n",
    "    print(\"당첨번호\")\n",
    "    print(num_list)\n",
    "    print(\"보너스번호\")\n",
    "    print(bonus)"
   ]
  },
  {
   "cell_type": "code",
   "execution_count": 54,
   "id": "113c6493",
   "metadata": {},
   "outputs": [],
   "source": [
    "import requests\n",
    "from bs4 import BeautifulSoup"
   ]
  },
  {
   "cell_type": "code",
   "execution_count": 55,
   "id": "5b2edcae",
   "metadata": {},
   "outputs": [
    {
     "name": "stdout",
     "output_type": "stream",
     "text": [
      "당첨번호\n",
      "['10', '23', '29', '33', '37', '40']\n",
      "보너스번호\n",
      "16\n",
      "당첨번호\n",
      "['9', '13', '21', '25', '32', '42']\n",
      "보너스번호\n",
      "2\n",
      "당첨번호\n",
      "['', '', '', '', '', '']\n",
      "보너스번호\n",
      "\n"
     ]
    }
   ],
   "source": [
    "### 3 ###\n",
    "\n",
    "win = Tk()\n",
    "\n",
    "win.geometry(\"300x100\")\n",
    "win.option_add(\"*Font\", \"궁서 20\")\n",
    "\n",
    "ent = Entry(win)  # 입력창 만들고\n",
    "ent.pack()  # 입력창 배치\n",
    "\n",
    "def lotto_p():\n",
    "\n",
    "    n = ent.get()  # 입력창 내용 받아오는 함수\n",
    "    url = \"https://dhlottery.co.kr/gameResult.do?method=byWin&drwNo={}\".format(n)\n",
    "    req = requests.get(url)\n",
    "    soup = BeautifulSoup(req.text, \"html.parser\")\n",
    "    # 정리하는 도구(beautifulsoup), 재료(req.text), 정리 방식(html.parser)\n",
    "    txt = soup.find(\"div\", attrs = {\"class\",\"win_result\"}).get_text()\n",
    "    # div(tag)적고, class(attrs), win result(value)를 딕셔너리 자료형으로 적게 됩니다.\n",
    "    # 태그의 내용만 추출하기 위해 get_text() 함수를 사용\n",
    "    num_list = txt.split(\"\\n\")[7:13]\n",
    "    bonus = txt.split(\"\\n\")[-4]\n",
    "    # split 함수를 사용해 \\n을 기준으로 텍스트를 나눕니다.\n",
    "\n",
    "    print(\"당첨번호\")\n",
    "    print(num_list)\n",
    "    print(\"보너스번호\")\n",
    "    print(bonus)\n",
    "    \n",
    "btn = Button(win)\n",
    "btn.config(text = \"로또 당첨 번호 확인\")\n",
    "btn.config(command = lotto_p)\n",
    "btn.pack()\n",
    "\n",
    "win.mainloop()"
   ]
  }
 ],
 "metadata": {
  "kernelspec": {
   "display_name": "Python 3 (ipykernel)",
   "language": "python",
   "name": "python3"
  },
  "language_info": {
   "codemirror_mode": {
    "name": "ipython",
    "version": 3
   },
   "file_extension": ".py",
   "mimetype": "text/x-python",
   "name": "python",
   "nbconvert_exporter": "python",
   "pygments_lexer": "ipython3",
   "version": "3.11.5"
  }
 },
 "nbformat": 4,
 "nbformat_minor": 5
}
